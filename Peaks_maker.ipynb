{
  "cells": [
    {
      "cell_type": "code",
      "execution_count": 1,
      "metadata": {
        "colab": {
          "base_uri": "https://localhost:8080/"
        },
        "id": "3kV5t30CSLEI",
        "outputId": "fb768196-3fc9-486a-8cee-afa069d51403"
      },
      "outputs": [
        {
          "output_type": "stream",
          "name": "stdout",
          "text": [
            "Collecting ffmpeg-python\n",
            "  Downloading ffmpeg_python-0.2.0-py3-none-any.whl.metadata (1.7 kB)\n",
            "Requirement already satisfied: future in /usr/local/lib/python3.11/dist-packages (from ffmpeg-python) (1.0.0)\n",
            "Downloading ffmpeg_python-0.2.0-py3-none-any.whl (25 kB)\n",
            "Installing collected packages: ffmpeg-python\n",
            "Successfully installed ffmpeg-python-0.2.0\n"
          ]
        }
      ],
      "source": [
        "!pip install ffmpeg-python"
      ]
    },
    {
      "cell_type": "code",
      "execution_count": 1,
      "metadata": {
        "id": "K5eLc3gfQvW0"
      },
      "outputs": [],
      "source": [
        "import ffmpeg\n",
        "import numpy as np\n",
        "import json\n",
        "import tempfile\n",
        "import os\n",
        "from scipy.io import wavfile"
      ]
    },
    {
      "cell_type": "code",
      "execution_count": 2,
      "metadata": {
        "id": "qooTLbfjARn5"
      },
      "outputs": [],
      "source": [
        "# prompt: write a code to unzip саманчынын жолу-20250428T103309Z-001.zip file\n",
        "\n",
        "# import zipfile\n",
        "\n",
        "# with zipfile.ZipFile('саманчынын жолу-20250428T103309Z-001.zip', 'r') as zip_ref:\n",
        "#     zip_ref.extractall()\n"
      ]
    },
    {
      "cell_type": "code",
      "execution_count": 3,
      "metadata": {
        "id": "NzHxXxCHRRYi"
      },
      "outputs": [],
      "source": [
        "audio_file = '/content/Aitmatov_turnalar.mp3'\n"
      ]
    },
    {
      "cell_type": "code",
      "execution_count": 4,
      "metadata": {
        "id": "cN-regU3BZ29"
      },
      "outputs": [],
      "source": [
        "# def generate_peaks_3(audio_file, output_json, samples=1000):\n",
        "#     # Извлечение аудио\n",
        "#     out, _ = ffmpeg.input(audio_file).output('pipe:1', format='s16le', ac=1, ar=44100).run(capture_stdout=True, capture_stderr=True)\n",
        "#     audio_data = np.frombuffer(out, dtype=np.int16)\n",
        "\n",
        "#     # Вычисление duration\n",
        "#     sample_rate = 44100\n",
        "#     duration = len(audio_data) / sample_rate\n",
        "\n",
        "#     # Подсчёт пиков\n",
        "#     chunk_size = len(audio_data) // samples\n",
        "#     peaks = []\n",
        "#     for i in range(samples):\n",
        "#         start = i * chunk_size\n",
        "#         end = start + chunk_size\n",
        "#         chunk = audio_data[start:end]\n",
        "#         if len(chunk) > 0:\n",
        "#             max_val = int(np.max(chunk))\n",
        "#             min_val = int(np.min(chunk))\n",
        "\n",
        "#             # Нормализация значений пиков\n",
        "#             normalized_max = max_val / 32768.0  # Преобразуем в диапазон от -1 до 1\n",
        "#             normalized_min = min_val / 32768.0\n",
        "#             peaks.extend([normalized_max, normalized_min])\n",
        "\n",
        "#     # Сохраняем JSON\n",
        "#     with open(output_json, 'w') as f:\n",
        "#         json.dump({\n",
        "#             \"sample_rate\": sample_rate,\n",
        "#             \"peaks\": peaks,\n",
        "#             \"bits\": 16,\n",
        "#             \"duration\": duration\n",
        "#         }, f)\n",
        "\n",
        "def generate_peaks_3(audio_file, output_json, max_samples=100000, peaks_per_second=20):\n",
        "\n",
        "    # out, _ = ffmpeg.input(audio_file).output('pipe:1', format='s16le', ac=1, ar=44100).run(capture_stdout=True, capture_stderr=True)\n",
        "    out, _ = ffmpeg.input(audio_file, loglevel='quiet').output('pipe:1', format='s16le', ac=1, ar=44100).run(capture_stdout=True)\n",
        "\n",
        "    audio_data = np.frombuffer(out, dtype=np.int16)\n",
        "\n",
        "\n",
        "    # Вычисление duration\n",
        "    sample_rate = 44100\n",
        "    duration = len(audio_data) / sample_rate\n",
        "\n",
        "\n",
        "    # Авто-расчет количества чанков\n",
        "    samples = int(duration * peaks_per_second)\n",
        "    samples = min(samples, max_samples)  # Ограничение сверху\n",
        "\n",
        "\n",
        "    # Подсчёт пиков с учётом всех данных\n",
        "    chunks = np.array_split(audio_data, samples)\n",
        "\n",
        "    peaks = []\n",
        "    for chunk in chunks:\n",
        "        if len(chunk) > 0:\n",
        "            max_val = int(np.max(chunk))\n",
        "            min_val = int(np.min(chunk))\n",
        "\n",
        "            # Нормализация значений пиков\n",
        "            normalized_max = max_val / 32768.0\n",
        "            normalized_min = min_val / 32768.0\n",
        "            peaks.extend([normalized_max, normalized_min])\n",
        "\n",
        "    # Сохраняем JSON\n",
        "    with open(output_json, 'w') as f:\n",
        "        json.dump({\n",
        "            \"sample_rate\": sample_rate,\n",
        "            \"peaks\": peaks,\n",
        "            \"bits\": 16,\n",
        "            \"duration\": duration\n",
        "        }, f)\n"
      ]
    },
    {
      "cell_type": "code",
      "execution_count": null,
      "metadata": {
        "id": "punqWpKdSfwn"
      },
      "outputs": [],
      "source": [
        "generate_peaks_3(audio_file, 'Aitmatov_turnalar.json')"
      ]
    },
    {
      "cell_type": "code",
      "execution_count": null,
      "metadata": {
        "id": "w7o1fCQkSkne"
      },
      "outputs": [],
      "source": [
        "from google.colab import files\n",
        "files.download('Aitmatov_turnalar.json')\n"
      ]
    },
    {
      "cell_type": "markdown",
      "metadata": {
        "id": "GkrXGD6BqeHd"
      },
      "source": [
        "### Previous"
      ]
    },
    {
      "cell_type": "code",
      "execution_count": null,
      "metadata": {
        "id": "_lMbpghoQtvY"
      },
      "outputs": [],
      "source": [
        "def generate_peaks(audio_file, output_json, samples=1000):\n",
        "    # Используем FFmpeg для извлечения аудиоданных\n",
        "    out, _ = ffmpeg.input(audio_file).output('pipe:1', format='s16le', ac=1, ar=44100).run(capture_stdout=True, capture_stderr=True)\n",
        "    audio_data = np.frombuffer(out, dtype=np.int16)\n",
        "\n",
        "    # Усреднение для пиков\n",
        "    chunk_size = len(audio_data) // samples\n",
        "    peaks = []\n",
        "    for i in range(samples):\n",
        "        start = i * chunk_size\n",
        "        end = start + chunk_size\n",
        "        chunk = audio_data[start:end]\n",
        "        if len(chunk) > 0:\n",
        "            max_val = np.max(chunk)\n",
        "            min_val = np.min(chunk)\n",
        "            # Convert NumPy int16 to native Python int before appending to peaks\n",
        "            peaks.append([int(max_val), int(min_val)])\n",
        "\n",
        "    # Сохраняем в JSON\n",
        "    with open(output_json, 'w') as f:\n",
        "        json.dump({\n",
        "            \"sample_rate\": 44100,\n",
        "            \"peaks\": peaks,\n",
        "            \"bits\": 16\n",
        "        }, f)"
      ]
    },
    {
      "cell_type": "code",
      "execution_count": null,
      "metadata": {
        "id": "TWNmRwaU7d1V"
      },
      "outputs": [],
      "source": [
        "def generate_peaks_2(audio_file, output_json, samples=3000):\n",
        "    # Получаем точную длительность\n",
        "    probe = ffmpeg.probe(audio_file)\n",
        "    duration = float(probe['streams'][0]['duration'])\n",
        "\n",
        "    # Уменьшаем частоту дискретизации для длинных файлов\n",
        "    target_sample_rate = 22050  # Вдвое меньше стандартной 44100\n",
        "\n",
        "    out, _ = (\n",
        "        ffmpeg.input(audio_file)\n",
        "        .output('pipe:1', format='s16le', ac=1, ar=target_sample_rate)\n",
        "        .run(capture_stdout=True, capture_stderr=True)\n",
        "    )\n",
        "\n",
        "    audio_data = np.frombuffer(out, dtype=np.int16)\n",
        "\n",
        "    # Агрессивное усреднение для длинных файлов\n",
        "    chunk_size = len(audio_data) // samples\n",
        "    peaks = []\n",
        "\n",
        "    for i in range(samples):\n",
        "        start = i * chunk_size\n",
        "        end = start + chunk_size\n",
        "        chunk = audio_data[start:end]\n",
        "\n",
        "        if len(chunk) > 0:\n",
        "            # Берем 95-й перцентиль для сглаживания пиков\n",
        "            max_val = np.percentile(chunk, 95)\n",
        "            min_val = np.percentile(chunk, 5)\n",
        "            peaks.append([float(max_val), float(min_val)])\n",
        "\n",
        "    # Сохраняем с оптимизированной структурой\n",
        "    with open(output_json, 'w') as f:\n",
        "        json.dump({\n",
        "            \"sample_rate\": target_sample_rate,\n",
        "            \"peaks\": peaks,\n",
        "            \"bits\": 16,\n",
        "            \"duration\": duration\n",
        "        }, f, separators=(',', ':'))  # Минимизируем размер JSON"
      ]
    }
  ],
  "metadata": {
    "colab": {
      "provenance": [],
      "collapsed_sections": [
        "GkrXGD6BqeHd"
      ]
    },
    "kernelspec": {
      "display_name": "Python 3",
      "name": "python3"
    },
    "language_info": {
      "name": "python"
    }
  },
  "nbformat": 4,
  "nbformat_minor": 0
}